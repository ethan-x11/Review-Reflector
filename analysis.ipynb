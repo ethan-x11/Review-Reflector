{
 "cells": [
  {
   "cell_type": "code",
   "execution_count": 1,
   "metadata": {},
   "outputs": [],
   "source": [
    "import matplotlib.pyplot as plt\n",
    "import seaborn as sns\n",
    "import pandas as pd\n",
    "\n",
    "plt.style.use('ggplot')\n"
   ]
  },
  {
   "cell_type": "code",
   "execution_count": 4,
   "metadata": {},
   "outputs": [
    {
     "data": {
      "text/html": [
       "<div>\n",
       "<style scoped>\n",
       "    .dataframe tbody tr th:only-of-type {\n",
       "        vertical-align: middle;\n",
       "    }\n",
       "\n",
       "    .dataframe tbody tr th {\n",
       "        vertical-align: top;\n",
       "    }\n",
       "\n",
       "    .dataframe thead th {\n",
       "        text-align: right;\n",
       "    }\n",
       "</style>\n",
       "<table border=\"1\" class=\"dataframe\">\n",
       "  <thead>\n",
       "    <tr style=\"text-align: right;\">\n",
       "      <th></th>\n",
       "      <th>asin</th>\n",
       "      <th>text</th>\n",
       "      <th>title</th>\n",
       "      <th>verified</th>\n",
       "      <th>rating</th>\n",
       "      <th>location</th>\n",
       "      <th>date</th>\n",
       "      <th>label</th>\n",
       "      <th>score</th>\n",
       "    </tr>\n",
       "  </thead>\n",
       "  <tbody>\n",
       "    <tr>\n",
       "      <th>0</th>\n",
       "      <td>B0C6KFZC9Z</td>\n",
       "      <td>Build quality is very good you will feel that....</td>\n",
       "      <td>Working well</td>\n",
       "      <td>True</td>\n",
       "      <td>5.0</td>\n",
       "      <td>India</td>\n",
       "      <td>2023-05-12</td>\n",
       "      <td>positive</td>\n",
       "      <td>0.824927</td>\n",
       "    </tr>\n",
       "    <tr>\n",
       "      <th>1</th>\n",
       "      <td>B0C6KFZC9Z</td>\n",
       "      <td>The packaging of the product is super premium....</td>\n",
       "      <td>Immersive Sound Quality &amp; Superb ANC Modes</td>\n",
       "      <td>False</td>\n",
       "      <td>5.0</td>\n",
       "      <td>India</td>\n",
       "      <td>2023-07-21</td>\n",
       "      <td>positive</td>\n",
       "      <td>0.675113</td>\n",
       "    </tr>\n",
       "    <tr>\n",
       "      <th>2</th>\n",
       "      <td>B0C6KFZC9Z</td>\n",
       "      <td>The Music audio is pretty good. Great to have ...</td>\n",
       "      <td>Good Product</td>\n",
       "      <td>True</td>\n",
       "      <td>5.0</td>\n",
       "      <td>India</td>\n",
       "      <td>2023-08-02</td>\n",
       "      <td>positive</td>\n",
       "      <td>0.875842</td>\n",
       "    </tr>\n",
       "    <tr>\n",
       "      <th>3</th>\n",
       "      <td>B0C6KFZC9Z</td>\n",
       "      <td>Very comfortable on the ears &amp; fits snugly/ no...</td>\n",
       "      <td>Great product…. Real value for money.</td>\n",
       "      <td>False</td>\n",
       "      <td>5.0</td>\n",
       "      <td>India</td>\n",
       "      <td>2023-08-05</td>\n",
       "      <td>positive</td>\n",
       "      <td>0.809596</td>\n",
       "    </tr>\n",
       "    <tr>\n",
       "      <th>4</th>\n",
       "      <td>B0C6KFZC9Z</td>\n",
       "      <td>ProsVery crisp and clear audioFast connectionS...</td>\n",
       "      <td>Excellent but lacks comfort</td>\n",
       "      <td>True</td>\n",
       "      <td>4.0</td>\n",
       "      <td>India</td>\n",
       "      <td>2023-08-11</td>\n",
       "      <td>negative</td>\n",
       "      <td>0.860607</td>\n",
       "    </tr>\n",
       "  </tbody>\n",
       "</table>\n",
       "</div>"
      ],
      "text/plain": [
       "         asin                                               text  \\\n",
       "0  B0C6KFZC9Z  Build quality is very good you will feel that....   \n",
       "1  B0C6KFZC9Z  The packaging of the product is super premium....   \n",
       "2  B0C6KFZC9Z  The Music audio is pretty good. Great to have ...   \n",
       "3  B0C6KFZC9Z  Very comfortable on the ears & fits snugly/ no...   \n",
       "4  B0C6KFZC9Z  ProsVery crisp and clear audioFast connectionS...   \n",
       "\n",
       "                                        title  verified  rating location  \\\n",
       "0                                Working well      True     5.0    India   \n",
       "1  Immersive Sound Quality & Superb ANC Modes     False     5.0    India   \n",
       "2                                Good Product      True     5.0    India   \n",
       "3       Great product…. Real value for money.     False     5.0    India   \n",
       "4                 Excellent but lacks comfort      True     4.0    India   \n",
       "\n",
       "         date     label     score  \n",
       "0  2023-05-12  positive  0.824927  \n",
       "1  2023-07-21  positive  0.675113  \n",
       "2  2023-08-02  positive  0.875842  \n",
       "3  2023-08-05  positive  0.809596  \n",
       "4  2023-08-11  negative  0.860607  "
      ]
     },
     "execution_count": 4,
     "metadata": {},
     "output_type": "execute_result"
    }
   ],
   "source": [
    "df = pd.read_csv('./data/B0C6KFZC9Z_2023-11-29.csv')\n",
    "df.head()"
   ]
  },
  {
   "cell_type": "markdown",
   "metadata": {},
   "source": [
    "# Positive Score Graph"
   ]
  },
  {
   "cell_type": "code",
   "execution_count": 27,
   "metadata": {},
   "outputs": [
    {
     "data": {
      "image/png": "[encoded data removed]",
      "text/plain": [
       "<Figure size 500x500 with 1 Axes>"
      ]
     },
     "metadata": {},
     "output_type": "display_data"
    }
   ],
   "source": [
    "positive_score = df[df['label'] == 'positive']\n",
    "sns.displot(positive_score['score'], kde = True)\n",
    "\n",
    "plt.xlabel('Time')\n",
    "plt.ylabel('Positivity')\n",
    "plt.show()"
   ]
  },
  {
   "cell_type": "markdown",
   "metadata": {},
   "source": [
    "# Negative Score Graph"
   ]
  },
  {
   "cell_type": "code",
   "execution_count": 28,
   "metadata": {},
   "outputs": [
    {
     "data": {
      "image/png": "[encoded data removed]",
      "text/plain": [
       "<Figure size 500x500 with 1 Axes>"
      ]
     },
     "metadata": {},
     "output_type": "display_data"
    }
   ],
   "source": [
    "negative_score = df[df['label'] == 'positive']\n",
    "sns.displot(negative_score['score'], kde = True)\n",
    "\n",
    "plt.xlabel('Time')\n",
    "plt.ylabel('Negativity')\n",
    "plt.show()"
   ]
  },
  {
   "cell_type": "markdown",
   "metadata": {},
   "source": [
    "# Rating vs Date"
   ]
  },
  {
   "cell_type": "code",
   "execution_count": null,
   "metadata": {},
   "outputs": [],
   "source": []
  },
  {
   "cell_type": "markdown",
   "metadata": {},
   "source": [
    "# Top Reviews "
   ]
  },
  {
   "cell_type": "code",
   "execution_count": 50,
   "metadata": {},
   "outputs": [
    {
     "name": "stderr",
     "output_type": "stream",
     "text": [
      "C:\\Users\\ANUSHA BERA\\AppData\\Local\\Temp\\ipykernel_4968\\4291683660.py:2: SettingWithCopyWarning: \n",
      "A value is trying to be set on a copy of a slice from a DataFrame\n",
      "\n",
      "See the caveats in the documentation: https://pandas.pydata.org/pandas-docs/stable/user_guide/indexing.html#returning-a-view-versus-a-copy\n",
      "  Top_positive_review.sort_values(by='score', ascending=False, inplace=True)\n"
     ]
    },
    {
     "data": {
      "text/html": [
       "<div>\n",
       "<style scoped>\n",
       "    .dataframe tbody tr th:only-of-type {\n",
       "        vertical-align: middle;\n",
       "    }\n",
       "\n",
       "    .dataframe tbody tr th {\n",
       "        vertical-align: top;\n",
       "    }\n",
       "\n",
       "    .dataframe thead th {\n",
       "        text-align: right;\n",
       "    }\n",
       "</style>\n",
       "<table border=\"1\" class=\"dataframe\">\n",
       "  <thead>\n",
       "    <tr style=\"text-align: right;\">\n",
       "      <th></th>\n",
       "      <th>date</th>\n",
       "      <th>title</th>\n",
       "      <th>text</th>\n",
       "      <th>location</th>\n",
       "    </tr>\n",
       "  </thead>\n",
       "  <tbody>\n",
       "    <tr>\n",
       "      <th>153</th>\n",
       "      <td>2023-11-27</td>\n",
       "      <td>Un rapport qualité-prix INCROYABLE</td>\n",
       "      <td>J'ai acheté ce casque il y a maintenant plus d...</td>\n",
       "      <td>France</td>\n",
       "    </tr>\n",
       "    <tr>\n",
       "      <th>131</th>\n",
       "      <td>2023-11-26</td>\n",
       "      <td>Satter Sound</td>\n",
       "      <td>Da macht Musik hören richtig Spaß.Hochwertige ...</td>\n",
       "      <td>Germany</td>\n",
       "    </tr>\n",
       "    <tr>\n",
       "      <th>136</th>\n",
       "      <td>2023-11-26</td>\n",
       "      <td>Great headset</td>\n",
       "      <td>Awesome sound and lots of features</td>\n",
       "      <td>the United States</td>\n",
       "    </tr>\n",
       "    <tr>\n",
       "      <th>140</th>\n",
       "      <td>2023-11-26</td>\n",
       "      <td>Sehr gut</td>\n",
       "      <td>Pünktlich und gute Produkte</td>\n",
       "      <td>Germany</td>\n",
       "    </tr>\n",
       "    <tr>\n",
       "      <th>128</th>\n",
       "      <td>2023-11-25</td>\n",
       "      <td>Love it!</td>\n",
       "      <td>Bought these for my Mom. She loves the sound.</td>\n",
       "      <td>the United States</td>\n",
       "    </tr>\n",
       "    <tr>\n",
       "      <th>164</th>\n",
       "      <td>2023-11-27</td>\n",
       "      <td>Excepcionales ¡¡</td>\n",
       "      <td>Me han gustado mucho</td>\n",
       "      <td>Spain</td>\n",
       "    </tr>\n",
       "    <tr>\n",
       "      <th>59</th>\n",
       "      <td>2023-10-27</td>\n",
       "      <td>Best Headphones available</td>\n",
       "      <td>The Sound Quality is awesomeLooks AwesomeBass ...</td>\n",
       "      <td>India</td>\n",
       "    </tr>\n",
       "    <tr>\n",
       "      <th>79</th>\n",
       "      <td>2023-11-05</td>\n",
       "      <td>Best under 10K</td>\n",
       "      <td>Amazing sound, comfortable fit</td>\n",
       "      <td>India</td>\n",
       "    </tr>\n",
       "    <tr>\n",
       "      <th>92</th>\n",
       "      <td>2023-11-11</td>\n",
       "      <td>Good purchase!</td>\n",
       "      <td>First day review - Pretty solid! Sound is amaz...</td>\n",
       "      <td>India</td>\n",
       "    </tr>\n",
       "    <tr>\n",
       "      <th>137</th>\n",
       "      <td>2023-11-26</td>\n",
       "      <td>Excelente producto</td>\n",
       "      <td>Cumple con lo requerido y considero es un buen...</td>\n",
       "      <td>the United States</td>\n",
       "    </tr>\n",
       "  </tbody>\n",
       "</table>\n",
       "</div>"
      ],
      "text/plain": [
       "           date                               title  \\\n",
       "153  2023-11-27  Un rapport qualité-prix INCROYABLE   \n",
       "131  2023-11-26                        Satter Sound   \n",
       "136  2023-11-26                       Great headset   \n",
       "140  2023-11-26                            Sehr gut   \n",
       "128  2023-11-25                            Love it!   \n",
       "164  2023-11-27                    Excepcionales ¡¡   \n",
       "59   2023-10-27           Best Headphones available   \n",
       "79   2023-11-05                      Best under 10K   \n",
       "92   2023-11-11                      Good purchase!   \n",
       "137  2023-11-26                  Excelente producto   \n",
       "\n",
       "                                                  text           location  \n",
       "153  J'ai acheté ce casque il y a maintenant plus d...             France  \n",
       "131  Da macht Musik hören richtig Spaß.Hochwertige ...            Germany  \n",
       "136                 Awesome sound and lots of features  the United States  \n",
       "140                        Pünktlich und gute Produkte            Germany  \n",
       "128      Bought these for my Mom. She loves the sound.  the United States  \n",
       "164                               Me han gustado mucho              Spain  \n",
       "59   The Sound Quality is awesomeLooks AwesomeBass ...              India  \n",
       "79                      Amazing sound, comfortable fit              India  \n",
       "92   First day review - Pretty solid! Sound is amaz...              India  \n",
       "137  Cumple con lo requerido y considero es un buen...  the United States  "
      ]
     },
     "execution_count": 50,
     "metadata": {},
     "output_type": "execute_result"
    }
   ],
   "source": [
    "Top_positive_review = df.loc[(df['label'] == 'positive') & (df['rating'] == 5.0)]\n",
    "Top_positive_review.sort_values(by='score', ascending=False, inplace=True)\n",
    "Top_positive_review = Top_positive_review [['date', 'title','text', 'location' ]]\n",
    "Top_positive_review.head(10)"
   ]
  },
  {
   "cell_type": "code",
   "execution_count": 51,
   "metadata": {},
   "outputs": [
    {
     "name": "stderr",
     "output_type": "stream",
     "text": [
      "C:\\Users\\ANUSHA BERA\\AppData\\Local\\Temp\\ipykernel_4968\\3710467704.py:2: SettingWithCopyWarning: \n",
      "A value is trying to be set on a copy of a slice from a DataFrame\n",
      "\n",
      "See the caveats in the documentation: https://pandas.pydata.org/pandas-docs/stable/user_guide/indexing.html#returning-a-view-versus-a-copy\n",
      "  Top_negative_review.sort_values(by='score', ascending=False, inplace=True)\n"
     ]
    },
    {
     "data": {
      "text/html": [
       "<div>\n",
       "<style scoped>\n",
       "    .dataframe tbody tr th:only-of-type {\n",
       "        vertical-align: middle;\n",
       "    }\n",
       "\n",
       "    .dataframe tbody tr th {\n",
       "        vertical-align: top;\n",
       "    }\n",
       "\n",
       "    .dataframe thead th {\n",
       "        text-align: right;\n",
       "    }\n",
       "</style>\n",
       "<table border=\"1\" class=\"dataframe\">\n",
       "  <thead>\n",
       "    <tr style=\"text-align: right;\">\n",
       "      <th></th>\n",
       "      <th>date</th>\n",
       "      <th>title</th>\n",
       "      <th>text</th>\n",
       "      <th>location</th>\n",
       "    </tr>\n",
       "  </thead>\n",
       "  <tbody>\n",
       "    <tr>\n",
       "      <th>67</th>\n",
       "      <td>2023-10-31</td>\n",
       "      <td>Soundcore  Space one headset</td>\n",
       "      <td>Poor quality headphones. ANC sucks.</td>\n",
       "      <td>India</td>\n",
       "    </tr>\n",
       "    <tr>\n",
       "      <th>121</th>\n",
       "      <td>2023-11-24</td>\n",
       "      <td>Très mauvais casque</td>\n",
       "      <td>Un très mauvais casque cher fragile même pas 6...</td>\n",
       "      <td>France</td>\n",
       "    </tr>\n",
       "    <tr>\n",
       "      <th>162</th>\n",
       "      <td>2023-11-27</td>\n",
       "      <td>Notice cancelling etc..very annoying</td>\n",
       "      <td>Every time you accidentally touch the right ea...</td>\n",
       "      <td>Canada</td>\n",
       "    </tr>\n",
       "    <tr>\n",
       "      <th>83</th>\n",
       "      <td>2023-11-07</td>\n",
       "      <td>Worst product ever</td>\n",
       "      <td>Its stopped working in 3 weeks of purchasePlea...</td>\n",
       "      <td>India</td>\n",
       "    </tr>\n",
       "    <tr>\n",
       "      <th>146</th>\n",
       "      <td>2023-11-27</td>\n",
       "      <td>Difficult to charge</td>\n",
       "      <td>I left it “charging “ all night but it kept sh...</td>\n",
       "      <td>the United States</td>\n",
       "    </tr>\n",
       "    <tr>\n",
       "      <th>161</th>\n",
       "      <td>2023-11-27</td>\n",
       "      <td>Un article de TRES MAUVAISE qualite</td>\n",
       "      <td>Apres a peine un an d utilisation, les écouteu...</td>\n",
       "      <td>France</td>\n",
       "    </tr>\n",
       "    <tr>\n",
       "      <th>123</th>\n",
       "      <td>2023-11-24</td>\n",
       "      <td>Sem garantia no Brasil</td>\n",
       "      <td>Adquiri o fone em mar/2023 por conta do cancel...</td>\n",
       "      <td>Brazil</td>\n",
       "    </tr>\n",
       "    <tr>\n",
       "      <th>120</th>\n",
       "      <td>2023-11-24</td>\n",
       "      <td>Muddy bass</td>\n",
       "      <td>Presentation is Okay, they don't come with the...</td>\n",
       "      <td>Canada</td>\n",
       "    </tr>\n",
       "    <tr>\n",
       "      <th>124</th>\n",
       "      <td>2023-11-24</td>\n",
       "      <td>Enttäuscht</td>\n",
       "      <td>Guter Sound aber entlädt sich innerhalb von ei...</td>\n",
       "      <td>Germany</td>\n",
       "    </tr>\n",
       "  </tbody>\n",
       "</table>\n",
       "</div>"
      ],
      "text/plain": [
       "           date                                 title  \\\n",
       "67   2023-10-31          Soundcore  Space one headset   \n",
       "121  2023-11-24                   Très mauvais casque   \n",
       "162  2023-11-27  Notice cancelling etc..very annoying   \n",
       "83   2023-11-07                    Worst product ever   \n",
       "146  2023-11-27                   Difficult to charge   \n",
       "161  2023-11-27   Un article de TRES MAUVAISE qualite   \n",
       "123  2023-11-24                Sem garantia no Brasil   \n",
       "120  2023-11-24                            Muddy bass   \n",
       "124  2023-11-24                            Enttäuscht   \n",
       "\n",
       "                                                  text           location  \n",
       "67                 Poor quality headphones. ANC sucks.              India  \n",
       "121  Un très mauvais casque cher fragile même pas 6...             France  \n",
       "162  Every time you accidentally touch the right ea...             Canada  \n",
       "83   Its stopped working in 3 weeks of purchasePlea...              India  \n",
       "146  I left it “charging “ all night but it kept sh...  the United States  \n",
       "161  Apres a peine un an d utilisation, les écouteu...             France  \n",
       "123  Adquiri o fone em mar/2023 por conta do cancel...             Brazil  \n",
       "120  Presentation is Okay, they don't come with the...             Canada  \n",
       "124  Guter Sound aber entlädt sich innerhalb von ei...            Germany  "
      ]
     },
     "execution_count": 51,
     "metadata": {},
     "output_type": "execute_result"
    }
   ],
   "source": [
    "Top_negative_review = df.loc[(df['label'] == 'negative') & (df['rating'] == 1.0)]\n",
    "Top_negative_review.sort_values(by='score', ascending=False, inplace=True)\n",
    "Top_negative_review = Top_negative_review [['date', 'title','text', 'location' ]]\n",
    "Top_negative_review.head(10)"
   ]
  },
  {
   "cell_type": "markdown",
   "metadata": {},
   "source": [
    "# Critcal Reviews"
   ]
  },
  {
   "cell_type": "code",
   "execution_count": 53,
   "metadata": {},
   "outputs": [
    {
     "name": "stderr",
     "output_type": "stream",
     "text": [
      "C:\\Users\\ANUSHA BERA\\AppData\\Local\\Temp\\ipykernel_4968\\1342554639.py:2: SettingWithCopyWarning: \n",
      "A value is trying to be set on a copy of a slice from a DataFrame\n",
      "\n",
      "See the caveats in the documentation: https://pandas.pydata.org/pandas-docs/stable/user_guide/indexing.html#returning-a-view-versus-a-copy\n",
      "  Top_positive_review.sort_values(by='score', ascending=False, inplace=True)\n"
     ]
    },
    {
     "data": {
      "text/html": [
       "<div>\n",
       "<style scoped>\n",
       "    .dataframe tbody tr th:only-of-type {\n",
       "        vertical-align: middle;\n",
       "    }\n",
       "\n",
       "    .dataframe tbody tr th {\n",
       "        vertical-align: top;\n",
       "    }\n",
       "\n",
       "    .dataframe thead th {\n",
       "        text-align: right;\n",
       "    }\n",
       "</style>\n",
       "<table border=\"1\" class=\"dataframe\">\n",
       "  <thead>\n",
       "    <tr style=\"text-align: right;\">\n",
       "      <th></th>\n",
       "      <th>date</th>\n",
       "      <th>title</th>\n",
       "      <th>text</th>\n",
       "      <th>rating</th>\n",
       "      <th>location</th>\n",
       "    </tr>\n",
       "  </thead>\n",
       "  <tbody>\n",
       "    <tr>\n",
       "      <th>153</th>\n",
       "      <td>2023-11-27</td>\n",
       "      <td>Un rapport qualité-prix INCROYABLE</td>\n",
       "      <td>J'ai acheté ce casque il y a maintenant plus d...</td>\n",
       "      <td>5.0</td>\n",
       "      <td>France</td>\n",
       "    </tr>\n",
       "  </tbody>\n",
       "</table>\n",
       "</div>"
      ],
      "text/plain": [
       "           date                               title  \\\n",
       "153  2023-11-27  Un rapport qualité-prix INCROYABLE   \n",
       "\n",
       "                                                  text  rating location  \n",
       "153  J'ai acheté ce casque il y a maintenant plus d...     5.0   France  "
      ]
     },
     "execution_count": 53,
     "metadata": {},
     "output_type": "execute_result"
    }
   ],
   "source": [
    "Critical_Positive = df.loc[(df['label'] == 'positive')]\n",
    "Critical_Positive.sort_values(by='score', ascending=False, inplace=True)\n",
    "Critical_Positive = Critical_Positive [['date', 'title','text', 'rating', 'location' ]]\n",
    "Critical_Positive.head(1)"
   ]
  },
  {
   "cell_type": "code",
   "execution_count": 56,
   "metadata": {},
   "outputs": [
    {
     "name": "stderr",
     "output_type": "stream",
     "text": [
      "C:\\Users\\ANUSHA BERA\\AppData\\Local\\Temp\\ipykernel_4968\\2858012145.py:2: SettingWithCopyWarning: \n",
      "A value is trying to be set on a copy of a slice from a DataFrame\n",
      "\n",
      "See the caveats in the documentation: https://pandas.pydata.org/pandas-docs/stable/user_guide/indexing.html#returning-a-view-versus-a-copy\n",
      "  Critical_Negative.sort_values(by='score', ascending=False, inplace=True)\n"
     ]
    },
    {
     "data": {
      "text/html": [
       "<div>\n",
       "<style scoped>\n",
       "    .dataframe tbody tr th:only-of-type {\n",
       "        vertical-align: middle;\n",
       "    }\n",
       "\n",
       "    .dataframe tbody tr th {\n",
       "        vertical-align: top;\n",
       "    }\n",
       "\n",
       "    .dataframe thead th {\n",
       "        text-align: right;\n",
       "    }\n",
       "</style>\n",
       "<table border=\"1\" class=\"dataframe\">\n",
       "  <thead>\n",
       "    <tr style=\"text-align: right;\">\n",
       "      <th></th>\n",
       "      <th>date</th>\n",
       "      <th>title</th>\n",
       "      <th>text</th>\n",
       "      <th>rating</th>\n",
       "      <th>location</th>\n",
       "    </tr>\n",
       "  </thead>\n",
       "  <tbody>\n",
       "    <tr>\n",
       "      <th>98</th>\n",
       "      <td>2023-11-16</td>\n",
       "      <td>Sottocarica NON FUNZIONANO</td>\n",
       "      <td>Carine esteticamente. Materiali alla fine buon...</td>\n",
       "      <td>3.0</td>\n",
       "      <td>Italy</td>\n",
       "    </tr>\n",
       "  </tbody>\n",
       "</table>\n",
       "</div>"
      ],
      "text/plain": [
       "          date                       title  \\\n",
       "98  2023-11-16  Sottocarica NON FUNZIONANO   \n",
       "\n",
       "                                                 text  rating location  \n",
       "98  Carine esteticamente. Materiali alla fine buon...     3.0    Italy  "
      ]
     },
     "execution_count": 56,
     "metadata": {},
     "output_type": "execute_result"
    }
   ],
   "source": [
    "Critical_Negative = df.loc[(df['label'] == 'negative')]\n",
    "Critical_Negative.sort_values(by='score', ascending=False, inplace=True)\n",
    "Critical_Negative = Critical_Negative [['date', 'title','text', 'rating', 'location' ]]\n",
    "Critical_Negative.head(1)"
   ]
  },
  {
   "cell_type": "markdown",
   "metadata": {},
   "source": []
  }
 ],
 "metadata": {
  "kernelspec": {
   "display_name": "venv",
   "language": "python",
   "name": "python3"
  },
  "language_info": {
   "codemirror_mode": {
    "name": "ipython",
    "version": 3
   },
   "file_extension": ".py",
   "mimetype": "text/x-python",
   "name": "python",
   "nbconvert_exporter": "python",
   "pygments_lexer": "ipython3",
   "version": "3.11.5"
  }
 },
 "nbformat": 4,
 "nbformat_minor": 2
}
